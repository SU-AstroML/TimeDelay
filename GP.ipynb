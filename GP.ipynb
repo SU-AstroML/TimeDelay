{
 "cells": [
  {
   "cell_type": "code",
   "execution_count": 1,
   "metadata": {
    "collapsed": true
   },
   "outputs": [],
   "source": [
    "import numpy as np\n",
    "import matplotlib.pyplot as plt\n",
    "from scipy.signal import correlate\n",
    "from sklearn.gaussian_process import GaussianProcess"
   ]
  },
  {
   "cell_type": "code",
   "execution_count": 2,
   "metadata": {
    "collapsed": false
   },
   "outputs": [],
   "source": [
    "def make_a_model(pairNo, x, X, y, dy):\n",
    "# Instanciate a Gaussian Process model\n",
    "# Instanciate a Gaussian Process model\n",
    "    gp = GaussianProcess(corr='squared_exponential', #?\n",
    "                         regr = \"quadratic\", #?\n",
    "                         theta0 = 1e-3,\n",
    "                         thetaL = 1e-3,\n",
    "                         thetaU = 1,\n",
    "                         nugget = (dy / y) ** 2, #?\n",
    "                         random_start=100)\n",
    "# Fit to data using Maximum Likelihood Estimation of the parameters\n",
    "    gp.fit(X, y)\n",
    "\n",
    "# Make the prediction on the meshed x-axis (ask for MSE as well)\n",
    "    y_pred, MSE = gp.predict(x, eval_MSE=True)\n",
    "    sigma = np.sqrt(MSE)\n",
    "    return y_pred, sigma"
   ]
  },
  {
   "cell_type": "code",
   "execution_count": 3,
   "metadata": {
    "collapsed": false
   },
   "outputs": [],
   "source": [
    "def plot_data(pairNo, dt, x, y_pred, sigma, X, y, dy, ob):\n",
    "# Plot the function, the prediction and the 95% confidence interval based on\n",
    "# the MSE\n",
    "    plt.errorbar(X.ravel() + dt, y, dy, fmt='.', markersize=10, label='Observations ' + ob)"
   ]
  },
  {
   "cell_type": "code",
   "execution_count": 4,
   "metadata": {
    "collapsed": true
   },
   "outputs": [],
   "source": [
    "def plot_model(pairNo, dt, x, y_pred, sigma, X, y, dy, ob):\n",
    "# Plot the function, the prediction and the 95% confidence interval based on\n",
    "# the MSE\n",
    "    plt.plot(x, y_pred, '-', label='Prediction ' + ob)\n",
    "    plt.fill(np.concatenate([x, x[::-1]]),\n",
    "        np.concatenate([y_pred - 1.9600 * sigma,\n",
    "                       (y_pred + 1.9600 * sigma)[::-1]]),\n",
    "        alpha=.5, ec='None', label='95% confidence interval ' + ob)"
   ]
  },
  {
   "cell_type": "code",
   "execution_count": 5,
   "metadata": {
    "collapsed": true
   },
   "outputs": [],
   "source": [
    "def cross_correlate_models(model1, model2, mode='same'):\n",
    "    corr = correlate(model1, model2, mode=mode)\n",
    "    abscorr = np.abs(corr)\n",
    "    maxcorr = np.max(abscorr)\n",
    "    return np.where(abscorr == maxcorr)[0], corr"
   ]
  },
  {
   "cell_type": "code",
   "execution_count": 6,
   "metadata": {
    "collapsed": false
   },
   "outputs": [
    {
     "name": "stdout",
     "output_type": "stream",
     "text": [
      "Pair 1 done!\n",
      "Pair 2 done!\n",
      "Pair 3 done!\n",
      "Pair 4 done!\n",
      "Pair 5 done!\n",
      "Pair 6 done!\n",
      "Pair 7 done!\n",
      "Pair 8 done!\n",
      "Pair 9 done!\n",
      "Pair 10 done!\n"
     ]
    }
   ],
   "source": [
    "dt_trues = [-57.53, -33.49, -108.85, 71.03, -33.82, -62.04, -61.6, -73.6, 41.9, 104.22]\n",
    "periods = []\n",
    "dt_preds = []\n",
    "#dt_trues = [41.9, 104.22]\n",
    "for pairNo, dt_true in zip(range(1, 11), dt_trues):\n",
    "    lightcurve = np.loadtxt(\"/home/saas9842/PhD/Courses/AstroML/Project/tdc1/rung3/tdc1_rung3_double_pair%d.txt\"%(pairNo),\n",
    "                            skiprows=6, dtype={\"names\":(\"time\", \"lcA\", \"errA\", \"lcB\", \"errB\"), \n",
    "                                               \"formats\":(\"f4\", \"f4\", \"f4\", \"f4\", \"f4\")})\n",
    "    x = np.atleast_2d(np.linspace(0, np.max(lightcurve['time']), 5000)).T\n",
    "\n",
    "    XA = lightcurve['time'].T\n",
    "    XA = XA.reshape((len(XA), 1))\n",
    "#    yA = lightcurve['lcA']\n",
    "    yA = (lightcurve['lcA'] - np.mean(lightcurve['lcA'])) / np.std(lightcurve['lcA'])\n",
    "    dyA = lightcurve['errA']\n",
    "    y_predA, sigmaA = make_a_model(pairNo, x, XA, yA, dyA) #A\n",
    "\n",
    "    \n",
    "#    XB = (lightcurve['time'] + dt_true).T\n",
    "    XB = (lightcurve['time']).T\n",
    "    XB = XB.reshape((len(XB), 1))\n",
    "#    yB = lightcurve['lcB']\n",
    "    yB = (lightcurve['lcB'] - np.mean(lightcurve['lcB'])) / np.std(lightcurve['lcB'])\n",
    "    dyB = lightcurve['errB']\n",
    "    y_predB, sigmaB = make_a_model(pairNo, x, XB, yB, dyB) #B\n",
    "    \n",
    "\n",
    "# Cross correlate the two models\n",
    "    ind_maxcorr, corr = cross_correlate_models(y_predA, y_predB)\n",
    "    t_maxcorr = x[ind_maxcorr]\n",
    "    t_maxcorr = t_maxcorr[0][0]\n",
    "\n",
    "# Autcorelate each of the models for an estimate of their periods individually\n",
    "    ind_max_acfA, corrA = cross_correlate_models(y_predA, y_predA)\n",
    "    t_max_acfA = x[ind_max_acfA]\n",
    "    t_max_acfA = t_max_acfA[0][0]\n",
    "\n",
    "    ind_max_acfB, corrB = cross_correlate_models(y_predB, y_predB)\n",
    "    t_max_acfB = x[ind_max_acfB]\n",
    "    t_max_acfB = t_max_acfB[0][0]\n",
    "\n",
    "    periods.append(t_max_acfB)\n",
    "    dt_preds.append(t_maxcorr)\n",
    "    \n",
    "    print \"Pair \" + str(pairNo) + \" done!\""
   ]
  },
  {
   "cell_type": "code",
   "execution_count": 12,
   "metadata": {
    "collapsed": true
   },
   "outputs": [],
   "source": [
    "periods = np.array(periods)\n",
    "dt_trues = np.array(dt_trues)\n",
    "dt_preds = np.array(dt_preds)\n",
    "\n",
    "plt.figure()\n",
    "plt.scatter(dt_trues, periods, marker='o', c=periods, edgecolor='None', s=150)\n",
    "plt.plot(dt_trues, dt_trues, linewidth=3)\n",
    "plt.show()\n",
    "\n",
    "plt.figure()\n",
    "plt.scatter(dt_trues, periods, marker='o', c=dt_preds, edgecolor='None', s=150)\n",
    "plt.plot(dt_trues, dt_trues, linewidth=3)\n",
    "plt.show()"
   ]
  },
  {
   "cell_type": "code",
   "execution_count": 15,
   "metadata": {
    "collapsed": false
   },
   "outputs": [
    {
     "name": "stdout",
     "output_type": "stream",
     "text": [
      "104.22 42.3452325231\n"
     ]
    }
   ],
   "source": [
    "# Plot everything\n",
    "    plt.figure()\n",
    "\n",
    "    plot_data(pairNo, 0, x, y_predA, sigmaA, XA, yA, dyA, \"A\") #A\n",
    "    plot_model(pairNo, 0, x, y_predA, sigmaA, XA, yA, dyA, \"A - period: \" + str(t_max_acfA)) #A\n",
    "    \n",
    "    plot_data(pairNo, 0, x, y_predB, sigmaB, XB, yB, dyB, \"B\") #B\n",
    "    plot_model(pairNo, 0, x, y_predB, sigmaB, XB, yB, dyB, \"B - period: \" + str(t_max_acfB)) #B\n",
    "    \n",
    "    plt.plot(x, (corr - np.mean(corr)) / np.std(corr),\n",
    "             '-y', linewidth=3, label=\"Cross correlation\")\n",
    "    plt.xlabel('t [days]')\n",
    "    plt.ylabel('normalized flux [arbitrary]')\n",
    "#    plt.ylim(-2.0, 2.5)\n",
    "    plt.title('PairNo: ' + str(pairNo) +\n",
    "              ' - true time delay: ' + str(dt_true) +\n",
    "              ' - maximum correlation at: ' + str(t_maxcorr))\n",
    "    \n",
    "    plt.legend().draggable()\n",
    "    plt.show()"
   ]
  },
  {
   "cell_type": "code",
   "execution_count": null,
   "metadata": {
    "collapsed": true
   },
   "outputs": [],
   "source": []
  }
 ],
 "metadata": {
  "kernelspec": {
   "display_name": "Python 2",
   "language": "python",
   "name": "python2"
  },
  "language_info": {
   "codemirror_mode": {
    "name": "ipython",
    "version": 2
   },
   "file_extension": ".py",
   "mimetype": "text/x-python",
   "name": "python",
   "nbconvert_exporter": "python",
   "pygments_lexer": "ipython2",
   "version": "2.7.6"
  }
 },
 "nbformat": 4,
 "nbformat_minor": 0
}
