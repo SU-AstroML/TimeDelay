{
 "metadata": {
  "name": ""
 },
 "nbformat": 3,
 "nbformat_minor": 0,
 "worksheets": [
  {
   "cells": [
    {
     "cell_type": "code",
     "collapsed": false,
     "input": [
      "%pylab\n",
      "import scipy.signal as scsig\n",
      "import scipy.stats as scs\n",
      "from sklearn.metrics import mean_squared_error"
     ],
     "language": "python",
     "metadata": {},
     "outputs": [
      {
       "output_type": "stream",
       "stream": "stdout",
       "text": [
        "Using matplotlib backend: TkAgg\n",
        "Populating the interactive namespace from numpy and matplotlib\n"
       ]
      }
     ],
     "prompt_number": 1
    },
    {
     "cell_type": "code",
     "collapsed": false,
     "input": [
      "pairs = range(3,5)\n",
      "for pairNo in pairs:\n",
      "    lightcurves = np.loadtxt(\"/home/saas9842/PhD/Courses/AstroML/Project/tdc0/rung1/tdc0_rung1_pair%d.txt\"%(pairNo), skiprows=6, \n",
      "                                dtype={\"names\":(\"time\", \"lcA\", \"errA\", \"lcB\", \"errB\"),\n",
      "                                       \"formats\":(\"f4\", \"f4\", \"f4\", \"f4\", \"f4\")})\n",
      "    corr = scsig.correlate(lightcurves['lcA'], lightcurves['lcB'], mode='same')\n",
      "    plt.plot(lightcurves['time'], (lightcurves['lcA']-np.mean(lightcurves['lcA']))/np.std(lightcurves['lcA']), \n",
      "             '.', label=\"A%d\"%(pairNo))\n",
      "    plt.plot(lightcurves['time'], (lightcurves['lcB']-np.mean(lightcurves['lcB']))/np.std(lightcurves['lcB']), \n",
      "             '.', label=\"B%d\"%(pairNo))\n",
      "    plt.plot(lightcurves['time'], corr/len(lightcurves['time']), '.', label='corr%d'%(pairNo))\n",
      "\n",
      "    #plt.plot(lightcurves['time'], (lightcurves['lcA']-np.mean(lightcurves['lcA']))/np.std(lightcurves['lcA']), \n",
      "    #         '.', label=\"A%d\"%(pairNo))\n",
      "    #plt.plot(lightcurves['time'], (lightcurves['lcB']-np.mean(lightcurves['lcB']))/np.std(lightcurves['lcB']), \n",
      "    #         '.', label=\"B%d\"%(pairNo))\n",
      "    #plt.errorbar(lightcurves['time'], (lightcurves['lcA']-np.mean(lightcurves['lcA']))/np.std(lightcurves['lcA']), \n",
      "    #             yerr=lightcurves['errA'], fmt='.', label=\"A%d\"%(pairNo))\n",
      "    #plt.errorbar(lightcurves['time'], (lightcurves['lcB']-np.mean(lightcurves['lcB']))/np.std(lightcurves['lcB']), \n",
      "    #                 yerr=lightcurves['errB'], fmt='.', label=\"B%d\"%(pairNo))\n",
      "    plt.legend()"
     ],
     "language": "python",
     "metadata": {},
     "outputs": [],
     "prompt_number": 7
    },
    {
     "cell_type": "code",
     "collapsed": false,
     "input": [
      "print np.std(lightcurves['lcA']), np.std(lightcurves['lcB'])\n",
      "print np.std(lightcurves['errA']), np.std(lightcurves['errB'])"
     ],
     "language": "python",
     "metadata": {},
     "outputs": [
      {
       "output_type": "stream",
       "stream": "stdout",
       "text": [
        "0.248792 1.06333\n",
        "0.00677827 0.0290432\n"
       ]
      }
     ],
     "prompt_number": 4
    },
    {
     "cell_type": "code",
     "collapsed": false,
     "input": [
      "plt.hist(lightcurves['errA'], bins=10, histtype='step', normed=True)\n",
      "plt.hist(lightcurves['errB'], bins=10, histtype='step', normed=True)"
     ],
     "language": "python",
     "metadata": {},
     "outputs": [
      {
       "metadata": {},
       "output_type": "pyout",
       "prompt_number": 5,
       "text": [
        "(array([  0.85141687,   4.49080665,  10.6343637 ,  12.08678072,\n",
        "        12.40397525,   9.96658576,   5.84305698,   3.32219525,\n",
        "         0.86811132,   0.46744456]),\n",
        " array([ 0.36556 ,  0.381971,  0.398382,  0.414793,  0.431204,  0.447615,\n",
        "        0.464026,  0.480437,  0.496848,  0.513259,  0.52967 ]),\n",
        " <a list of 1 Patch objects>)"
       ]
      }
     ],
     "prompt_number": 5
    },
    {
     "cell_type": "code",
     "collapsed": false,
     "input": [
      "corr = scsig.correlate(lightcurves['lcA'], lightcurves['lcB'], mode='same')\n",
      "chi2 = scs.chisquare(lightcurves['lcA'], lightcurves['lcB'])[0]\n",
      "rms = mean_squared_error(lightcurves['lcA'], lightcurves['lcB'])\n",
      "plt.plot(lightcurves['time'], (lightcurves['lcA']-np.mean(lightcurves['lcA']))/np.std(lightcurves['lcA']), \n",
      "         'g.', label=\"A%d\"%(pairNo))\n",
      "plt.plot(lightcurves['time'], (lightcurves['lcB']-np.mean(lightcurves['lcB']))/np.std(lightcurves['lcB']), \n",
      "         'b.', label=\"B%d\"%(pairNo))\n",
      "plt.plot(lightcurves['time'], corr/len(lightcurves['time']), '.r')\n"
     ],
     "language": "python",
     "metadata": {},
     "outputs": [
      {
       "metadata": {},
       "output_type": "pyout",
       "prompt_number": 10,
       "text": [
        "[<matplotlib.lines.Line2D at 0x7f40b10ef710>]"
       ]
      }
     ],
     "prompt_number": 10
    },
    {
     "cell_type": "code",
     "collapsed": false,
     "input": [],
     "language": "python",
     "metadata": {},
     "outputs": [
      {
       "output_type": "stream",
       "stream": "stdout",
       "text": [
        "122.675\n"
       ]
      }
     ],
     "prompt_number": 4
    },
    {
     "cell_type": "code",
     "collapsed": false,
     "input": [],
     "language": "python",
     "metadata": {},
     "outputs": []
    }
   ],
   "metadata": {}
  }
 ]
}