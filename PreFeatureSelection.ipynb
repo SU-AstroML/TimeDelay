{
 "cells": [
  {
   "cell_type": "code",
   "execution_count": 1,
   "metadata": {
    "collapsed": false
   },
   "outputs": [
    {
     "name": "stdout",
     "output_type": "stream",
     "text": [
      "Using matplotlib backend: TkAgg\n",
      "Populating the interactive namespace from numpy and matplotlib\n"
     ]
    }
   ],
   "source": [
    "%pylab\n",
    "import scipy.signal as scsig\n",
    "import scipy.stats as scs\n",
    "from sklearn.metrics import mean_squared_error\n"
   ]
  },
  {
   "cell_type": "code",
   "execution_count": 30,
   "metadata": {
    "collapsed": false
   },
   "outputs": [],
   "source": [
    "truth = np.loadtxt(\"/home/saas9842/PhD/Courses/AstroML/Project/tdc1/rung1/truth1.txt\", skiprows=1,\n",
    "                    dtype={\"names\":(\"pairfile\", \"dt\", \"m1\", \"m2\", \"zl\", \"zs\", \"id\", \"tau\", \"sig\"),\n",
    "                           \"formats\":(\"S30\", \"f4\", \"f4\", \"f4\", \"f4\", \"f4\", \"f4\", \"f4\", \"f4\")})\n",
    "dt_true = []\n",
    "corrmean = []\n",
    "corrmedian = []\n",
    "corrstd = []\n",
    "corrvar = []\n",
    "for pairNo in range(1, 720):\n",
    "    lightcurves = np.loadtxt(\"/home/saas9842/PhD/Courses/AstroML/Project/tdc1/rung1/tdc1_rung1_double_pair%d.txt\"%(pairNo), skiprows=6, \n",
    "                              dtype={\"names\":(\"time\", \"lcA\", \"errA\", \"lcB\", \"errB\"),\n",
    "                                     \"formats\":(\"f4\", \"f4\", \"f4\", \"f4\", \"f4\")})\n",
    "    dt_true.append(truth['dt'][pairNo])\n",
    "    t = lightcurves['time']\n",
    "    A = lightcurves['lcA']\n",
    "    normA = (A-np.mean(A))/np.std(A)\n",
    "    B = lightcurves['lcB']\n",
    "    normB = (B-np.mean(B))/np.std(B)\n",
    "    \n",
    "#    plt.plot(lightcurves['time'], (lightcurves['lcA']-np.mean(lightcurves['lcA']))/np.std(lightcurves['lcA']), \n",
    "#             '.y', label=\"A%d\"%(pairNo))\n",
    "#    plt.plot(lightcurves['time']+5.86, (lightcurves['lcB']-np.mean(lightcurves['lcB']))/np.std(lightcurves['lcB']), \n",
    "#             '.c', label=\"B%d\"%(pairNo))\n",
    "    corr = np.correlate(normA, normB, \"same\")\n",
    "    corrmean.append(corr.mean())\n",
    "    corrmedian.append(np.median(corr))\n",
    "    corrstd.append(corr.std())\n",
    "    corrvar.append(np.var(corr))\n",
    "#    plt.plot(t, corr/np.std(corr), '.')\n",
    "#    plt.legend()\n",
    "\n",
    "dt_true = np.array(dt_true)\n",
    "corrmean = np.array(corrmean)\n",
    "corrmedian = np.array(corrmedian)\n",
    "corrstd = np.array(corrstd)\n",
    "corrvar = np.array(corrvar)\n",
    "plt.plot(dt_true, corrmean-np.mean(corrmean), '.y', label=\"mean\")\n",
    "plt.plot(dt_true, corrmedian-np.mean(corrmedian), '.m', label=\"median\")\n",
    "plt.plot(dt_true, corrstd-np.mean(corrstd), '.c', label=\"standad deviation\")\n",
    "#plt.plot(dt_true, corrvar-np.mean(corrvar), '.g', label=\"variance\")\n",
    "plt.legend()\n",
    "plt.show()"
   ]
  },
  {
   "cell_type": "code",
   "execution_count": 77,
   "metadata": {
    "collapsed": false
   },
   "outputs": [
    {
     "data": {
      "text/plain": [
       "<matplotlib.collections.PathCollection at 0x7f9bad00ebd0>"
      ]
     },
     "execution_count": 77,
     "metadata": {},
     "output_type": "execute_result"
    }
   ],
   "source": [
    "AA, BB = np.meshgrid(A, B)\n",
    "t1, t2 = np.meshgrid(t, t)\n",
    "val = AA*BB\n",
    "plt.scatter(t1.flatten(), t2.flatten(), c=val.flatten(), marker='o', edgecolor='None')"
   ]
  },
  {
   "cell_type": "code",
   "execution_count": 31,
   "metadata": {
    "collapsed": false
   },
   "outputs": [
    {
     "name": "stdout",
     "output_type": "stream",
     "text": [
      "0.83 3404.54\n"
     ]
    }
   ],
   "source": [
    "print np.min(lightcurves['time']), np.max(lightcurves['time'])\n",
    "hst = plt.hist(lightcurves['time'], bins=100)"
   ]
  },
  {
   "cell_type": "code",
   "execution_count": 32,
   "metadata": {
    "collapsed": false
   },
   "outputs": [
    {
     "data": {
      "text/plain": [
       "(array([  3.03281193,   5.76234266,   9.70499817,  18.80343395,\n",
       "        24.8690578 ,  24.8690578 ,  16.6804656 ,  11.52468532,\n",
       "         3.33609312,   0.60656239]),\n",
       " array([ 0.01226,  0.02065,  0.02904,  0.03743,  0.04582,  0.05421,\n",
       "        0.0626 ,  0.07099,  0.07938,  0.08777,  0.09616]),\n",
       " <a list of 1 Patch objects>)"
      ]
     },
     "execution_count": 32,
     "metadata": {},
     "output_type": "execute_result"
    }
   ],
   "source": [
    "plt.hist(lightcurves['errA'], bins=10, histtype='step', normed=True)\n",
    "plt.hist(lightcurves['errB'], bins=10, histtype='step', normed=True)"
   ]
  },
  {
   "cell_type": "code",
   "execution_count": null,
   "metadata": {
    "collapsed": false
   },
   "outputs": [],
   "source": []
  }
 ],
 "metadata": {
  "kernelspec": {
   "display_name": "Python 2",
   "language": "python",
   "name": "python2"
  },
  "language_info": {
   "codemirror_mode": {
    "name": "ipython",
    "version": 2
   },
   "file_extension": ".py",
   "mimetype": "text/x-python",
   "name": "python",
   "nbconvert_exporter": "python",
   "pygments_lexer": "ipython2",
   "version": "2.7.6"
  }
 },
 "nbformat": 4,
 "nbformat_minor": 0
}
